{
 "cells": [
  {
   "cell_type": "code",
   "execution_count": 12,
   "metadata": {},
   "outputs": [],
   "source": [
    "import nmmo"
   ]
  },
  {
   "cell_type": "code",
   "execution_count": 2,
   "metadata": {},
   "outputs": [],
   "source": [
    "from nmmo.task.task_spec import TaskSpec\n",
    "\n",
    "# Let's start with pre-built eval functions\n",
    "from nmmo.task.base_predicates import CountEvent, InventorySpaceGE, TickGE, norm"
   ]
  },
  {
   "cell_type": "code",
   "execution_count": 3,
   "metadata": {},
   "outputs": [
    {
     "name": "stdout",
     "output_type": "stream",
     "text": [
      "Curriculum so far:\n",
      " [TaskSpec(eval_fn=<function CountEvent at 0x7f356c57cd30>, eval_fn_kwargs={'event': 'GO_FARTHEST', 'N': 10}, task_cls=<class 'nmmo.task.task_api.Task'>, task_kwargs={}, reward_to='agent', sampling_weight=1.0, embedding=None, predicate=None), TaskSpec(eval_fn=<function CountEvent at 0x7f356c57cd30>, eval_fn_kwargs={'event': 'EAT_FOOD', 'N': 10}, task_cls=<class 'nmmo.task.task_api.Task'>, task_kwargs={}, reward_to='agent', sampling_weight=1.0, embedding=None, predicate=None), TaskSpec(eval_fn=<function CountEvent at 0x7f356c57cd30>, eval_fn_kwargs={'event': 'DRINK_WATER', 'N': 10}, task_cls=<class 'nmmo.task.task_api.Task'>, task_kwargs={}, reward_to='agent', sampling_weight=1.0, embedding=None, predicate=None), TaskSpec(eval_fn=<function CountEvent at 0x7f356c57cd30>, eval_fn_kwargs={'event': 'SCORE_HIT', 'N': 10}, task_cls=<class 'nmmo.task.task_api.Task'>, task_kwargs={}, reward_to='agent', sampling_weight=1.0, embedding=None, predicate=None), TaskSpec(eval_fn=<function CountEvent at 0x7f356c57cd30>, eval_fn_kwargs={'event': 'HARVEST_ITEM', 'N': 10}, task_cls=<class 'nmmo.task.task_api.Task'>, task_kwargs={}, reward_to='agent', sampling_weight=1.0, embedding=None, predicate=None), TaskSpec(eval_fn=<function CountEvent at 0x7f356c57cd30>, eval_fn_kwargs={'event': 'LEVEL_UP', 'N': 10}, task_cls=<class 'nmmo.task.task_api.Task'>, task_kwargs={}, reward_to='agent', sampling_weight=1.0, embedding=None, predicate=None)]\n",
      "\n",
      "One example training task:\n",
      " TaskSpec(eval_fn=<function CountEvent at 0x7f356c57cd30>, eval_fn_kwargs={'event': 'GO_FARTHEST', 'N': 10}, task_cls=<class 'nmmo.task.task_api.Task'>, task_kwargs={}, reward_to='agent', sampling_weight=1.0, embedding=None, predicate=None)\n"
     ]
    }
   ],
   "source": [
    "# Here are very simple training tasks, based on a pre-built function, CountEvent\n",
    "curriculum = []\n",
    "# Agents have completed the task if they have done the event N times\n",
    "essential_events = [\n",
    "    \"GO_FARTHEST\",\n",
    "    \"EAT_FOOD\",\n",
    "    \"DRINK_WATER\",\n",
    "    \"SCORE_HIT\",\n",
    "    \"HARVEST_ITEM\",\n",
    "    \"LEVEL_UP\",\n",
    "]\n",
    "\n",
    "for event_code in essential_events:\n",
    "    curriculum.append(\n",
    "        TaskSpec(\n",
    "            eval_fn=CountEvent,  # is a pre-built eval function\n",
    "            eval_fn_kwargs={\"event\": event_code, \"N\": 10},  # kwargs for CountEvent\n",
    "        )\n",
    "    )\n",
    "\n",
    "print(\"Curriculum so far:\\n\", curriculum)\n",
    "print(\"\\nOne example training task:\\n\", curriculum[0])"
   ]
  },
  {
   "cell_type": "code",
   "execution_count": 4,
   "metadata": {},
   "outputs": [],
   "source": [
    "# You can also use pre-built eval functions to define your own function\n",
    "def PracticeInventoryManagement(gs, subject, space, num_tick):\n",
    "    return norm(InventorySpaceGE(gs, subject, space) * TickGE(gs, subject, num_tick))\n",
    "\n",
    "# Training tasks are defined using TaskSpec\n",
    "for space in [2, 4, 8]:\n",
    "    curriculum.append(\n",
    "        TaskSpec(\n",
    "            eval_fn=PracticeInventoryManagement,\n",
    "            eval_fn_kwargs={\"space\": space, \"num_tick\": 500},\n",
    "        )\n",
    "    )"
   ]
  },
  {
   "cell_type": "code",
   "execution_count": 5,
   "metadata": {},
   "outputs": [],
   "source": [
    "# The eval functions can be built directly from accessing attributes in GameState and subject\n",
    "# GameState: https://github.com/NeuralMMO/environment/blob/2.0/nmmo/task/game_state.py#L32\n",
    "\n",
    "def PracticeEating(gs, subject):\n",
    "    \"\"\"The progress, the max of which is 1, should\n",
    "    * increase small for each eating\n",
    "    * increase big for the 1st and 3rd eating\n",
    "    * reach 1 with 10 eatings\n",
    "    \"\"\"\n",
    "    num_eat = len(subject.event.EAT_FOOD)\n",
    "    progress = num_eat * 0.06\n",
    "    if num_eat >= 1:\n",
    "        progress += 0.1\n",
    "    if num_eat >= 3:\n",
    "        progress += 0.3\n",
    "    return norm(progress)  # norm is a helper function to normalize the value to [0, 1]\n",
    "\n",
    "curriculum.append(TaskSpec(eval_fn=PracticeEating, eval_fn_kwargs={}))"
   ]
  },
  {
   "cell_type": "code",
   "execution_count": 6,
   "metadata": {},
   "outputs": [
    {
     "name": "stdout",
     "output_type": "stream",
     "text": [
      "The number of training tasks in the curriculum: 10\n"
     ]
    }
   ],
   "source": [
    "# Import the custom curriculum\n",
    "import curriculum_generation.curriculum_tutorial as tutorial\n",
    "CURRICULUM = tutorial.curriculum\n",
    "print(\"The number of training tasks in the curriculum:\", len(CURRICULUM))"
   ]
  },
  {
   "cell_type": "code",
   "execution_count": 7,
   "metadata": {},
   "outputs": [
    {
     "name": "stdout",
     "output_type": "stream",
     "text": [
      "All training tasks are valid.\n"
     ]
    }
   ],
   "source": [
    "# Check if these task specs are valid in the nmmo environment\n",
    "# Invalid tasks will crash your agent training\n",
    "from nmmo.task.task_spec import check_task_spec\n",
    "\n",
    "results = check_task_spec(CURRICULUM)\n",
    "num_error = 0\n",
    "for result in results:\n",
    "  if result[\"runnable\"] is False:\n",
    "    print(\"ERROR: \", result[\"spec_name\"])\n",
    "    num_error += 1\n",
    "assert num_error == 0, \"Invalid task specs will crash training. Please fix them.\"\n",
    "print(\"All training tasks are valid.\")"
   ]
  },
  {
   "cell_type": "code",
   "execution_count": 8,
   "metadata": {},
   "outputs": [
    {
     "name": "stdout",
     "output_type": "stream",
     "text": [
      "All training tasks are picklable.\n"
     ]
    }
   ],
   "source": [
    "# The task_spec must be picklable to be used for agent training\n",
    "CURRICULUM_FILE_PATH = \"custom_curriculum_with_embedding.pkl\"\n",
    "with open(CURRICULUM_FILE_PATH, \"wb\") as f:\n",
    "  import dill\n",
    "  dill.dump(CURRICULUM, f)\n",
    "print(\"All training tasks are picklable.\")"
   ]
  },
  {
   "cell_type": "code",
   "execution_count": 11,
   "metadata": {},
   "outputs": [
    {
     "name": "stdout",
     "output_type": "stream",
     "text": [
      "182.676545536\n"
     ]
    }
   ],
   "source": [
    "# Check the available RAM before running below\n",
    "import psutil\n",
    "avail_ram = psutil.virtual_memory()[1]/1_000_000_000  # GB\n",
    "print(avail_ram)\n",
    "assert avail_ram > 16, \"Need a high-ram instance, available with Colab Pro.\"\n",
    "\n"
   ]
  },
  {
   "cell_type": "code",
   "execution_count": 13,
   "metadata": {},
   "outputs": [],
   "source": [
    "import os"
   ]
  },
  {
   "cell_type": "code",
   "execution_count": 18,
   "metadata": {},
   "outputs": [
    {
     "data": {
      "text/plain": [
       "''"
      ]
     },
     "execution_count": 18,
     "metadata": {},
     "output_type": "execute_result"
    }
   ],
   "source": [
    "os.path.dirname('.')"
   ]
  },
  {
   "cell_type": "code",
   "execution_count": null,
   "metadata": {},
   "outputs": [],
   "source": []
  }
 ],
 "metadata": {
  "kernelspec": {
   "display_name": "nmmo2023",
   "language": "python",
   "name": "python3"
  },
  "language_info": {
   "codemirror_mode": {
    "name": "ipython",
    "version": 3
   },
   "file_extension": ".py",
   "mimetype": "text/x-python",
   "name": "python",
   "nbconvert_exporter": "python",
   "pygments_lexer": "ipython3",
   "version": "3.10.13"
  }
 },
 "nbformat": 4,
 "nbformat_minor": 2
}
